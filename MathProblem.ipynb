{
 "cells": [
  {
   "cell_type": "markdown",
   "metadata": {},
   "source": [
    "$$p(x) = f(x^2 - x) $$ "
   ]
  },
  {
   "cell_type": "markdown",
   "metadata": {},
   "source": [
    "Slope of p(x) $$p'(x) = f'(x^2 -x)*(2x-1) $$"
   ]
  },
  {
   "cell_type": "markdown",
   "metadata": {},
   "source": [
    "Slope of p(x) at tangent line when $$ x = -1 $$\n",
    "\n",
    "$$ p'(-1) = f'((-1)^2 - (-1)) * (2(-1) - 1) $$\n",
    "$$ p'(-1) = f'(1 +1) * (-3) $$ \n",
    "$$ p'(-1) = -3 f'(2) $$ "
   ]
  },
  {
   "cell_type": "code",
   "execution_count": 16,
   "metadata": {
    "collapsed": false
   },
   "outputs": [],
   "source": [
    "from IPython.core.display import HTML \n",
    "\n"
   ]
  },
  {
   "cell_type": "code",
   "execution_count": 20,
   "metadata": {
    "collapsed": false
   },
   "outputs": [
    {
     "data": {
      "text/html": [
       "<link rel=\"stylesheet\" href=\"style.css\">\n",
       "<img src=\"image.jpg\" alt=\"\" class=\"rotate90\"> \n",
       "<h1> The graph above will help us to solve the remaining of the problem </h1> "
      ],
      "text/plain": [
       "<IPython.core.display.HTML object>"
      ]
     },
     "metadata": {},
     "output_type": "display_data"
    }
   ],
   "source": [
    "%%html\n",
    "<link rel=\"stylesheet\" href=\"style.css\">\n",
    "<img src=\"image.jpg\" alt=\"\" class=\"rotate90\"> \n",
    "<h1> The graph above will help us to solve the remaining of the problem </h1> "
   ]
  },
  {
   "cell_type": "markdown",
   "metadata": {},
   "source": [
    "Remember that f'(x) at any x value is the slope of the tangent line in relation to f(x). Using this graph, we can set up a slope point form-based equation to solve for f'(0) . \n",
    "\n",
    "Since we're interested in finding f'(2), we can use the fact that f(2) = 0 which means $$ x_1 = 2 $$ and $$ y_1 = 0 $$\n"
   ]
  },
  {
   "cell_type": "markdown",
   "metadata": {},
   "source": [
    "## Slope Point Equation to Find f'(2)\n",
    "\n",
    "$$ y = f'(2)*(x - 2) $$"
   ]
  },
  {
   "cell_type": "markdown",
   "metadata": {},
   "source": [
    "We know two points like (-5,2) and (4,-4) so we can use either of these to solve for f'(2)"
   ]
  },
  {
   "cell_type": "markdown",
   "metadata": {},
   "source": [
    "$$ -4 = f'(2) * (4-2) $$ "
   ]
  },
  {
   "cell_type": "markdown",
   "metadata": {},
   "source": [
    "$$ -4 = 2*f'(2) $$"
   ]
  },
  {
   "cell_type": "markdown",
   "metadata": {},
   "source": [
    "$$ f'(2) = \\frac{-4}{2} $$"
   ]
  },
  {
   "cell_type": "markdown",
   "metadata": {},
   "source": [
    "$$ f'(2) = -2 $$ "
   ]
  },
  {
   "cell_type": "markdown",
   "metadata": {},
   "source": [
    "$$ p(-1) = -3*f'(2) = -3 * -2 = 6 $$ "
   ]
  },
  {
   "cell_type": "code",
   "execution_count": null,
   "metadata": {
    "collapsed": true
   },
   "outputs": [],
   "source": []
  }
 ],
 "metadata": {
  "kernelspec": {
   "display_name": "Python 3",
   "language": "python",
   "name": "python3"
  },
  "language_info": {
   "codemirror_mode": {
    "name": "ipython",
    "version": 3
   },
   "file_extension": ".py",
   "mimetype": "text/x-python",
   "name": "python",
   "nbconvert_exporter": "python",
   "pygments_lexer": "ipython3",
   "version": "3.6.3"
  }
 },
 "nbformat": 4,
 "nbformat_minor": 2
}
